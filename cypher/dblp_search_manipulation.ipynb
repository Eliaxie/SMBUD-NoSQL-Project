{
 "cells": [
  {
   "cell_type": "markdown",
   "metadata": {},
   "source": [
    "<h3><b>MUST HAVE \"dblp.v12.json\" (12.56 GB) in the same folder to use this tool</b></h3>"
   ]
  },
  {
   "cell_type": "markdown",
   "metadata": {},
   "source": [
    "DBLP with stop at 3000 Lines"
   ]
  },
  {
   "cell_type": "code",
   "execution_count": null,
   "metadata": {},
   "outputs": [],
   "source": [
    "f = open(\"dblp.v12.json\")\n",
    "string = f.readlines(3000)\n",
    "file = open(\"dblp_3000.json\",'w')\n",
    "for line in f:\n",
    "    file.write(line)\n",
    "f.close()\n",
    "file.write(']')\n",
    "file.close()"
   ]
  },
  {
   "cell_type": "markdown",
   "metadata": {},
   "source": [
    "Search for a Book"
   ]
  },
  {
   "cell_type": "code",
   "execution_count": 14,
   "metadata": {},
   "outputs": [
    {
     "name": "stdout",
     "output_type": "stream",
     "text": [
      ",{\"id\":4601953,\"authors\":[{\"name\":\"Mark Dahmke\",\"id\":320507129}],\"title\":\"Microcomputer Operating Systems\",\"year\":1982,\"n_citation\":0,\"page_start\":\"\",\"page_end\":\"\",\"doc_type\":\"Book\",\"publisher\":\"\",\"volume\":\"\",\"issue\":\"\",\"doi\":\"\",\"fos\":[{\"name\":\"Computer science\",\"w\":0.36763},{\"name\":\"Microcomputer\",\"w\":0.51819},{\"name\":\"Operating system\",\"w\":0.41581}],\"venue\":{\"raw\":\"\"}}\n",
      "\n"
     ]
    }
   ],
   "source": [
    "import re\n",
    "pattern = '\\\"doc_type\\\":\\\"Book\\\"'\n",
    "f = open(\"dblp_3000.json\")\n",
    "lines = f.readlines()\n",
    "for string in lines:\n",
    "    if re.search(pattern,string):\n",
    "        print(string)\n",
    "        break\n",
    "f.close()"
   ]
  },
  {
   "cell_type": "markdown",
   "metadata": {},
   "source": [
    "Search for a Journal"
   ]
  },
  {
   "cell_type": "code",
   "execution_count": 8,
   "metadata": {},
   "outputs": [
    {
     "name": "stdout",
     "output_type": "stream",
     "text": [
      ",{\"id\":1388,\"authors\":[{\"name\":\"Pranava K. Jha\",\"id\":2718958994}],\"title\":\"Further Results on Independence in Direct-Product Graphs.\",\"year\":2000,\"n_citation\":1,\"page_start\":\"\",\"page_end\":\"\",\"doc_type\":\"Journal\",\"publisher\":\"\",\"volume\":\"56\",\"issue\":\"\",\"doi\":\"\",\"fos\":[{\"name\":\"Graph\",\"w\":0.0},{\"name\":\"Discrete mathematics\",\"w\":0.45872},{\"name\":\"Combinatorics\",\"w\":0.4515},{\"name\":\"Direct product\",\"w\":0.59104},{\"name\":\"Mathematics\",\"w\":0.42784}],\"venue\":{\"raw\":\"Ars Combinatoria\",\"id\":73158690,\"type\":\"J\"}}\n",
      "\n"
     ]
    }
   ],
   "source": [
    "pattern = '\\\"doc_type\\\":\\\"Journal\\\"'\n",
    "f = open(\"dblp.v12.json\")\n",
    "lines = f.readlines(3000)\n",
    "for string in lines:\n",
    "    if re.search(pattern,string):\n",
    "        print(string)\n",
    "        break\n",
    "f.close()"
   ]
  }
 ],
 "metadata": {
  "kernelspec": {
   "display_name": "Python 3.9.10 64-bit",
   "language": "python",
   "name": "python3"
  },
  "language_info": {
   "codemirror_mode": {
    "name": "ipython",
    "version": 3
   },
   "file_extension": ".py",
   "mimetype": "text/x-python",
   "name": "python",
   "nbconvert_exporter": "python",
   "pygments_lexer": "ipython3",
   "version": "3.9.10"
  },
  "orig_nbformat": 4,
  "vscode": {
   "interpreter": {
    "hash": "aee8b7b246df8f9039afb4144a1f6fd8d2ca17a180786b69acc140d282b71a49"
   }
  }
 },
 "nbformat": 4,
 "nbformat_minor": 2
}
