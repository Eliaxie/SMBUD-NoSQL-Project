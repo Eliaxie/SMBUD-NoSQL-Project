{
 "cells": [
  {
   "cell_type": "code",
   "execution_count": 2,
   "id": "2c8babf9",
   "metadata": {},
   "outputs": [
    {
     "name": "stdout",
     "output_type": "stream",
     "text": [
      "22/12/05 19:55:46 WARN Utils: Your hostname, linux resolves to a loopback address: 127.0.1.1; using 192.168.1.172 instead (on interface enp6s0)\n",
      "22/12/05 19:55:46 WARN Utils: Set SPARK_LOCAL_IP if you need to bind to another address\n"
     ]
    },
    {
     "name": "stderr",
     "output_type": "stream",
     "text": [
      "Setting default log level to \"WARN\".\n",
      "To adjust logging level use sc.setLogLevel(newLevel). For SparkR, use setLogLevel(newLevel).\n"
     ]
    },
    {
     "name": "stdout",
     "output_type": "stream",
     "text": [
      "22/12/05 19:55:46 WARN NativeCodeLoader: Unable to load native-hadoop library for your platform... using builtin-java classes where applicable\n"
     ]
    }
   ],
   "source": [
    "# Import the basic spark library\n",
    "from pyspark.sql import SparkSession\n",
    "from pyspark.sql.types import StructType, StructField, StringType, ArrayType, IntegerType\n",
    "from pyspark.sql.functions import from_json, col, count, when, array_contains\n",
    "\n",
    "# Create an entry point to the PySpark Application\n",
    "spark = SparkSession.builder \\\n",
    "      .master(\"local\") \\\n",
    "      .appName(\"NoSQLProject\") \\\n",
    "      .getOrCreate()\n",
    "# master contains the URL of your remote spark instance bor 'local'"
   ]
  },
  {
   "cell_type": "code",
   "execution_count": 3,
   "id": "ef478967",
   "metadata": {},
   "outputs": [],
   "source": [
    "schemapub = StructType([ \\\n",
    "    StructField('id', StringType(), False), \\\n",
    "    StructField('title', StringType(), False), \\\n",
    "    StructField('page_start', IntegerType(), True), \\\n",
    "    StructField('page_end', IntegerType(), True), \\\n",
    "    StructField('year', IntegerType(), True), \\\n",
    "    StructField('citations', IntegerType(), True), \\\n",
    "    StructField('venue', StringType(), True), \\\n",
    "    StructField('keywords', StringType(), True) \\\n",
    "])\n",
    "\n",
    "schemaref = StructType([ \\\n",
    "    StructField('references', StringType(), False), \\\n",
    "    StructField('referenced', StringType(), False) \\\n",
    "])\n",
    "\n",
    "schemavenue = StructType([ \\\n",
    "    StructField('name', StringType(), False), \\\n",
    "    StructField('type', StringType(), True) \\\n",
    "])\n",
    "\n",
    "schemawrites = StructType([ \\\n",
    "    StructField('author', StringType(), False), \\\n",
    "    StructField('publication', StringType(), False) \\\n",
    "])\n",
    "\n",
    "schemaauthor = StructType([ \\\n",
    "    StructField('id', StringType(), False), \\\n",
    "    StructField('name', StringType(), False), \\\n",
    "    StructField('org', StringType(), True) \\\n",
    "])"
   ]
  },
  {
   "cell_type": "code",
   "execution_count": 91,
   "id": "4c4a2904",
   "metadata": {},
   "outputs": [],
   "source": [
    "pub = spark.read.option(\"header\", True).option(\"delimiter\", \";\").schema(schemapub).csv(\"dataset/publication.csv\")\n",
    "pub = pub.withColumn('keywords', from_json('keywords', ArrayType(StringType())))\n",
    "\n",
    "\n",
    "ref = spark.read.option(\"header\", True).option(\"delimiter\", \";\").schema(schemaref).csv(\"dataset/reference.csv\")\n",
    "\n",
    "\n",
    "ven = spark.read.option(\"header\", True).option(\"delimiter\", \";\").schema(schemavenue).csv(\"dataset/venue.csv\")\n",
    "\n",
    "\n",
    "writes = spark.read.option(\"header\", True).option(\"delimiter\", \";\").schema(schemawrites).csv(\"dataset/writes.csv\")\n",
    "\n",
    "\n",
    "author = spark.read.option(\"header\", True).option(\"delimiter\", \";\").schema(schemaauthor).csv(\"dataset/author.csv\")"
   ]
  },
  {
   "cell_type": "markdown",
   "id": "5ab0f79b",
   "metadata": {},
   "source": [
    "Publications"
   ]
  },
  {
   "cell_type": "code",
   "execution_count": 92,
   "id": "968fdedb",
   "metadata": {},
   "outputs": [
    {
     "name": "stdout",
     "output_type": "stream",
     "text": [
      "root\n",
      " |-- id: string (nullable = true)\n",
      " |-- title: string (nullable = true)\n",
      " |-- page_start: integer (nullable = true)\n",
      " |-- page_end: integer (nullable = true)\n",
      " |-- year: integer (nullable = true)\n",
      " |-- citations: integer (nullable = true)\n",
      " |-- venue: string (nullable = true)\n",
      " |-- keywords: array (nullable = true)\n",
      " |    |-- element: string (containsNull = true)\n",
      "\n",
      "+----+--------------------+----------+--------+----+---------+--------------------+--------------------+\n",
      "|  id|               title|page_start|page_end|year|citations|               venue|            keywords|\n",
      "+----+--------------------+----------+--------+----+---------+--------------------+--------------------+\n",
      "|1091|Preliminary Desig...|        89|      93|2013|        1|International Con...|[Telecommunicatio...|\n",
      "|1388|Further Results o...|      null|    null|2000|        1|    Ars Combinatoria|[Graph, Discrete ...|\n",
      "|1674|A methodology for...|       137|     144|2011|        1|International Con...|[Statue, Engineer...|\n",
      "|1688|Comparison of GAR...|       597|     602|2009|        6|Pattern Recogniti...|[Autoregressive–m...|\n",
      "|5411|COMPARING GNG3D A...|        99|     102|2009|        0|International Con...|[Computer vision,...|\n",
      "+----+--------------------+----------+--------+----+---------+--------------------+--------------------+\n",
      "only showing top 5 rows\n",
      "\n"
     ]
    }
   ],
   "source": [
    "pub.printSchema()\n",
    "pub.show(5)"
   ]
  },
  {
   "cell_type": "markdown",
   "id": "a7a4bc17",
   "metadata": {},
   "source": [
    "References\n"
   ]
  },
  {
   "cell_type": "code",
   "execution_count": 93,
   "id": "d7d17c66",
   "metadata": {},
   "outputs": [
    {
     "name": "stdout",
     "output_type": "stream",
     "text": [
      "root\n",
      " |-- references: string (nullable = true)\n",
      " |-- referenced: string (nullable = true)\n",
      "\n",
      "+----------+----------+\n",
      "|references|referenced|\n",
      "+----------+----------+\n",
      "|   1377244|    844961|\n",
      "|   1699467|   1766746|\n",
      "|    988455|   1295707|\n",
      "|    252754|    396995|\n",
      "|   1568722|    444631|\n",
      "+----------+----------+\n",
      "only showing top 5 rows\n",
      "\n"
     ]
    }
   ],
   "source": [
    "ref.printSchema()\n",
    "ref.show(5)"
   ]
  },
  {
   "cell_type": "markdown",
   "id": "5341a541",
   "metadata": {},
   "source": [
    "Venues"
   ]
  },
  {
   "cell_type": "code",
   "execution_count": 94,
   "id": "efc8a20e",
   "metadata": {},
   "outputs": [
    {
     "name": "stdout",
     "output_type": "stream",
     "text": [
      "root\n",
      " |-- name: string (nullable = true)\n",
      " |-- type: string (nullable = true)\n",
      "\n",
      "+--------------------+----+\n",
      "|                name|type|\n",
      "+--------------------+----+\n",
      "|                 MMB|   C|\n",
      "|IEEE Internationa...|   C|\n",
      "|Intelligent Infor...|   C|\n",
      "|International Con...|   C|\n",
      "|Intelligent Envir...|   C|\n",
      "+--------------------+----+\n",
      "only showing top 5 rows\n",
      "\n"
     ]
    }
   ],
   "source": [
    "ven.printSchema()\n",
    "ven.show(5)"
   ]
  },
  {
   "cell_type": "markdown",
   "id": "e8e641da",
   "metadata": {},
   "source": [
    "Authors write a publication"
   ]
  },
  {
   "cell_type": "code",
   "execution_count": 95,
   "id": "42cda25c",
   "metadata": {},
   "outputs": [
    {
     "name": "stdout",
     "output_type": "stream",
     "text": [
      "root\n",
      " |-- author: string (nullable = true)\n",
      " |-- publication: string (nullable = true)\n",
      "\n",
      "+----------+-----------+\n",
      "|    author|publication|\n",
      "+----------+-----------+\n",
      "|2063147752|     988004|\n",
      "|2121858404|     559767|\n",
      "|2142126378|    1534806|\n",
      "|2227406975|    1689216|\n",
      "|2100069631|    1664829|\n",
      "+----------+-----------+\n",
      "only showing top 5 rows\n",
      "\n"
     ]
    }
   ],
   "source": [
    "writes.printSchema()\n",
    "writes.show(5)"
   ]
  },
  {
   "cell_type": "markdown",
   "id": "6d3ed62e",
   "metadata": {},
   "source": [
    "Authors"
   ]
  },
  {
   "cell_type": "code",
   "execution_count": 96,
   "id": "40f84f89",
   "metadata": {},
   "outputs": [
    {
     "name": "stdout",
     "output_type": "stream",
     "text": [
      "root\n",
      " |-- id: string (nullable = true)\n",
      " |-- name: string (nullable = true)\n",
      " |-- org: string (nullable = true)\n",
      "\n",
      "+----------+-------------------+--------------------+\n",
      "|        id|               name|                 org|\n",
      "+----------+-------------------+--------------------+\n",
      "|2394632022|       Jan-Bon Chen|                null|\n",
      "|2791585711|J. E. Kapusnik-Uner|                null|\n",
      "|2777059883|        Sadao Obana|                null|\n",
      "|2618245063|        David Weiss|Computer and Info...|\n",
      "|2404679103|     Michal Helwich|                null|\n",
      "+----------+-------------------+--------------------+\n",
      "only showing top 5 rows\n",
      "\n"
     ]
    }
   ],
   "source": [
    "author.printSchema()\n",
    "author.show(5)"
   ]
  },
  {
   "cell_type": "markdown",
   "id": "17654643",
   "metadata": {},
   "source": [
    "**<h3>Queries</h3>**"
   ]
  },
  {
   "cell_type": "markdown",
   "id": "dd4ec1d5",
   "metadata": {},
   "source": [
    "1. Show the type of publications from 1990 to date. (WHERE and JOIN)"
   ]
  },
  {
   "cell_type": "markdown",
   "id": "8178beaa",
   "metadata": {},
   "source": [
    "```sql\n",
    "SELECT type  \n",
    "FROM publication JOIN (SELECT * FROM venue)\n",
    "WHERE publication.year > 1990\n"
   ]
  },
  {
   "cell_type": "code",
   "execution_count": 97,
   "id": "12d29993",
   "metadata": {},
   "outputs": [
    {
     "name": "stdout",
     "output_type": "stream",
     "text": [
      "+----+----+\n",
      "|year|type|\n",
      "+----+----+\n",
      "|2013|C   |\n",
      "|2000|J   |\n",
      "|2011|C   |\n",
      "|2009|C   |\n",
      "|2009|C   |\n",
      "|2004|J   |\n",
      "|2011|C   |\n",
      "|2003|C   |\n",
      "|2012|C   |\n",
      "|2014|C   |\n",
      "|2013|C   |\n",
      "|2002|C   |\n",
      "|2006|C   |\n",
      "|2003|J   |\n",
      "|2008|C   |\n",
      "|2002|C   |\n",
      "|2013|C   |\n",
      "|2009|C   |\n",
      "|2008|C   |\n",
      "|2008|C   |\n",
      "+----+----+\n",
      "only showing top 20 rows\n",
      "\n"
     ]
    }
   ],
   "source": [
    "pub.join(ven, pub.venue == ven.name, 'inner') \\\n",
    "            .filter(pub.year > 1990) \\\n",
    "            .select('year', 'type') \\\n",
    "            .show(truncate=False)"
   ]
  },
  {
   "cell_type": "markdown",
   "id": "a57effb5",
   "metadata": {},
   "source": [
    "2. Find name of publications related to the venues written for (WHERE and JOIN again)"
   ]
  },
  {
   "cell_type": "markdown",
   "id": "65df2954",
   "metadata": {},
   "source": [
    "```sql\n",
    "SELECT title, name  \n",
    "FROM publication AS p JOIN venue AS v \n",
    "ON p.venue = v.name WHERE v.type = 'C'\n"
   ]
  },
  {
   "cell_type": "code",
   "execution_count": 98,
   "id": "f1e51543",
   "metadata": {},
   "outputs": [
    {
     "name": "stdout",
     "output_type": "stream",
     "text": [
      "+--------------------+--------------------+\n",
      "|               title|                name|\n",
      "+--------------------+--------------------+\n",
      "|Preliminary Desig...|International Con...|\n",
      "|A methodology for...|International Con...|\n",
      "|Comparison of GAR...|Pattern Recogniti...|\n",
      "|COMPARING GNG3D A...|International Con...|\n",
      "|Improved Secret I...|International Sym...|\n",
      "|A Self-Stabilizin...|Parallel and Dist...|\n",
      "|Formal agent-orie...|Asian Conference ...|\n",
      "|Fur Visualisation...|International Con...|\n",
      "|Identifying Psych...|International Con...|\n",
      "|Multisymplectic S...|International Con...|\n",
      "|The Role of the B...|Americas Conferen...|\n",
      "|Speech training s...|International Joi...|\n",
      "|Knowledge Enginee...|Joint Conference ...|\n",
      "|Design of an audi...|Conference of the...|\n",
      "|A Platform for Di...|International Con...|\n",
      "|A COMPUTATIONAL S...|International Con...|\n",
      "|Cleaneval: a Comp...|Language Resource...|\n",
      "|Leveraging legacy...|Operating Systems...|\n",
      "|A pedestrian navi...|International Con...|\n",
      "|Algorithms for th...|European Society ...|\n",
      "+--------------------+--------------------+\n",
      "only showing top 20 rows\n",
      "\n"
     ]
    }
   ],
   "source": [
    "pub.join(ven, pub.venue == ven.name, 'inner') \\\n",
    "            .select('title', 'name') \\\n",
    "            .filter(col('type') == 'C') \\\n",
    "            .show(truncate = True)"
   ]
  },
  {
   "cell_type": "markdown",
   "id": "f1662cdf",
   "metadata": {},
   "source": [
    "3. List books where their title ends with \"i\" as penultimum letter (WHERE, LIKE and LIMIT)"
   ]
  },
  {
   "cell_type": "markdown",
   "id": "3aa7c3ab",
   "metadata": {
    "vscode": {
     "languageId": "sql"
    }
   },
   "source": [
    "```sql\n",
    "SELECT P.title\n",
    "FROM Publication AS P \n",
    "WHERE title LIKE '%i_'\n",
    "LIMIT 5\n"
   ]
  },
  {
   "cell_type": "code",
   "execution_count": 99,
   "id": "2aa55506",
   "metadata": {},
   "outputs": [
    {
     "name": "stdout",
     "output_type": "stream",
     "text": [
      "+------------------------------------------------------------------------------------------------------------------+\n",
      "|title                                                                                                             |\n",
      "+------------------------------------------------------------------------------------------------------------------+\n",
      "|Two notes from experimental study on image steganalysis                                                           |\n",
      "|Acquiring entailment pairs across languages and domains: a data analysis                                          |\n",
      "|Automated identification of thoracolumbar vertebrae using orthogonal matching pursuit                             |\n",
      "|Agricultural Knowledge Management Systems in Practice: The Ability to Support Wereda Knowledge Centers in Ethiopia|\n",
      "|Genetic Network Programming with Actor-Critic                                                                     |\n",
      "+------------------------------------------------------------------------------------------------------------------+\n",
      "\n"
     ]
    }
   ],
   "source": [
    "pub.filter(col('title').like('%i_')) \\\n",
    "            .select(col('title')) \\\n",
    "            .limit(5) \\\n",
    "            .show(truncate=False)"
   ]
  },
  {
   "cell_type": "markdown",
   "id": "c4b5c750",
   "metadata": {},
   "source": [
    "4. Find publications written by authors affiliated with a specific organization (WHERE, IN, Nested Query)"
   ]
  },
  {
   "cell_type": "markdown",
   "id": "944e029b",
   "metadata": {},
   "source": [
    "```sql\n",
    "SELECT p.title AS Title\n",
    "FROM Publication AS p\n",
    "WHERE p.id IN ( SELECT p2.id\n",
    "                FROM writes AS w JOIN author AS a ON w.author = a.id\n",
    "                WHERE a.org = 'University of Illinois at Chicago.'\n",
    "              )\n",
    "              "
   ]
  },
  {
   "cell_type": "code",
   "execution_count": 100,
   "id": "f5dc1240",
   "metadata": {},
   "outputs": [
    {
     "name": "stdout",
     "output_type": "stream",
     "text": [
      "+------+--------------------+----------+--------+----+---------+--------------------+--------------------+\n",
      "|    id|               title|page_start|page_end|year|citations|               venue|            keywords|\n",
      "+------+--------------------+----------+--------+----+---------+--------------------+--------------------+\n",
      "| 34988|Optimization of h...|       303|     324|1997|       31|Annals of Operati...|[Genetic operator...|\n",
      "|961884|Outlier Detection...|       483|     493|2008|      113|SIAM Internationa...|[Data point, Anom...|\n",
      "+------+--------------------+----------+--------+----+---------+--------------------+--------------------+\n",
      "\n"
     ]
    }
   ],
   "source": [
    "org_pubs = pub.join(writes, writes.publication == pub.id) \\\n",
    "                .join(author, author.id == writes.author) \\\n",
    "                .filter(col('org') == 'University of Illinois at Chicago.') \\\n",
    "                .rdd.map(lambda x: x.publication).collect()\n",
    "\n",
    "pub.filter(col('id').isin(org_pubs)) \\\n",
    "    .show()"
   ]
  },
  {
   "cell_type": "markdown",
   "id": "b5e3d6dc",
   "metadata": {},
   "source": [
    "5. Show publications and their number of citations (GROUP BY, JOIN, AS)"
   ]
  },
  {
   "cell_type": "code",
   "execution_count": null,
   "id": "a7883765",
   "metadata": {},
   "outputs": [],
   "source": []
  },
  {
   "cell_type": "code",
   "execution_count": null,
   "id": "8cab765d",
   "metadata": {},
   "outputs": [],
   "source": []
  },
  {
   "cell_type": "markdown",
   "id": "ef0f27b4",
   "metadata": {},
   "source": [
    "11. Find the most cited publication(s) in the publications table, list its (their) name(s), ID(s), venue(s) with type and authors (one row per author and publication). (WHERE, GROUP BY, HAVING, 2 JOINs)"
   ]
  },
  {
   "cell_type": "markdown",
   "id": "7f28876a",
   "metadata": {
    "vscode": {
     "languageId": "sql"
    }
   },
   "source": [
    "```sql\n",
    "SELECT p.title AS Title, p.id AS ID, p.venue AS Venue, v.type AS Type, author.name AS author\n",
    "FROM publication AS p JOIN venue AS v ON p.venue = v.name\n",
    "        JOIN writes AS w ON w.publication = p.id\n",
    "        JOIN author AS a ON a.id = w.author\n",
    "WHERE p.id IN ( SELECT p2.id \n",
    "                FROM publication AS p2 JOIN ref AS r ON p2.id = r.referenced\n",
    "                GROUP BY p2.id\n",
    "                HAVING COUNT(*) = (SELECT MAX(COUNT(*))\n",
    "                                   FROM publication AS p3 JOIN ref AS r2 ON p3.id = r2.referenced\n",
    "                                   GROUP BY p3.id)\n",
    "              )\n"
   ]
  },
  {
   "cell_type": "code",
   "execution_count": 103,
   "id": "1e371690",
   "metadata": {},
   "outputs": [
    {
     "name": "stdout",
     "output_type": "stream",
     "text": [
      "+-------+--------------------+--------------------+-----+----------------+\n",
      "|     ID|               Title|               Venue|VType|            name|\n",
      "+-------+--------------------+--------------------+-----+----------------+\n",
      "|1235110|Impact of Communi...|International Con...|    C|Dimitar Trajanov|\n",
      "|1235110|Impact of Communi...|International Con...|    C|Dimitar Trajanov|\n",
      "|1235110|Impact of Communi...|International Con...|    C| Sonja Filiposka|\n",
      "|1235110|Impact of Communi...|International Con...|    C| Sonja Filiposka|\n",
      "+-------+--------------------+--------------------+-----+----------------+\n",
      "\n",
      "26\n"
     ]
    }
   ],
   "source": [
    "max = pub.join(ref, ref.references == pub.id) \\\n",
    "            .groupBy('id') \\\n",
    "            .count() \\\n",
    "            .groupBy() \\\n",
    "            .max('count') \\\n",
    "            .collect()[0][0]\n",
    "\n",
    "max_pubs = pub.join(ref, ref.references == pub.id) \\\n",
    "            .groupBy('id') \\\n",
    "            .count() \\\n",
    "            .filter(col('count') == max) \\\n",
    "            .rdd.map(lambda x: x.id).collect()\n",
    "\n",
    "pub.join(ven, ven.name == pub.venue) \\\n",
    "            .join(writes, writes.publication == pub.id) \\\n",
    "            .join(author, writes.author == author.id) \\\n",
    "            .drop(author.id) \\\n",
    "            .drop(ven.name) \\\n",
    "            .filter(col('id').isin(max_pubs)) \\\n",
    "            .select(col('id'), col('title'), col('venue'), col('type'), col('name')) \\\n",
    "            .withColumnRenamed('id', 'ID') \\\n",
    "            .withColumnRenamed('title', 'Title') \\\n",
    "            .withColumnRenamed('venue', 'Venue') \\\n",
    "            .withColumnRenamed('type', 'VType') \\\n",
    "            .withColumnRenamed('type', 'Author') \\\n",
    "            .limit(5) \\\n",
    "            .show(truncate = True)"
   ]
  },
  {
   "cell_type": "markdown",
   "id": "bd8e9d3a",
   "metadata": {},
   "source": [
    "Show authors with at least two publications, ordered by number of publications. \\\n",
    "(GROUP BY, 1 JOIN, AS)"
   ]
  },
  {
   "cell_type": "code",
   "execution_count": null,
   "id": "a0efb953",
   "metadata": {},
   "outputs": [],
   "source": [
    "writes.join(author,writes.author == author.id,'inner') \\\n",
    "    .groupBy('author') \\\n",
    "    .agg(count('publication').alias('number_of_publications')) \\\n",
    "    .filter(col('number_of_publications') > 1) \\\n",
    "    .sort('number_of_publications',ascending=True) \\\n",
    "    .show()"
   ]
  },
  {
   "cell_type": "markdown",
   "id": "a786ec3b",
   "metadata": {},
   "source": [
    "\n",
    "Find publications that are referenced more than the average, ordered by the number of publications in ascending order. \\\n",
    "(NESTED QUERY)\n"
   ]
  },
  {
   "cell_type": "code",
   "execution_count": null,
   "id": "354bdcec",
   "metadata": {},
   "outputs": [],
   "source": [
    "average = ref.groupBy('referenced').count() \\\n",
    "        .sort('count',ascending=False) \\\n",
    "        .groupBy() \\\n",
    "        .avg('count') \\\n",
    "        .collect()[0][0]\n",
    "\n",
    "pub.join(ref,ref.referenced == pub.id,'left') \\\n",
    "    .select('title','id','referenced','references') \\\n",
    "    .groupBy('title') \\\n",
    "    .agg(count('references').alias('number_of_references')) \\\n",
    "    .filter(col('number_of_references') > average) \\\n",
    "    .sort('number_of_references',ascending=True) \\\n",
    "    .show()"
   ]
  },
  {
   "cell_type": "markdown",
   "id": "f13c7661",
   "metadata": {},
   "source": []
  },
  {
   "cell_type": "markdown",
   "id": "b6844a4a",
   "metadata": {},
   "source": [
    "Update the publication dataframe with the number of pages column for each article."
   ]
  },
  {
   "cell_type": "code",
   "execution_count": null,
   "id": "2cc10a40",
   "metadata": {},
   "outputs": [],
   "source": [
    "pub = pub.withColumn(\"pages\",when( col(\"page_start\").isNotNull(), pub['page_end']-pub['page_start']).otherwise( None ).alias(\"pages\")) \\\n",
    "\n",
    "pub.select('title','page_start','page_end','pages').show()"
   ]
  }
 ],
 "metadata": {
  "kernelspec": {
   "display_name": "Python 3 (ipykernel)",
   "language": "python",
   "name": "python3"
  },
  "language_info": {
   "codemirror_mode": {
    "name": "ipython",
    "version": 3
   },
   "file_extension": ".py",
   "mimetype": "text/x-python",
   "name": "python",
   "nbconvert_exporter": "python",
   "pygments_lexer": "ipython3",
   "version": "3.9.12"
  },
  "vscode": {
   "interpreter": {
    "hash": "aee8b7b246df8f9039afb4144a1f6fd8d2ca17a180786b69acc140d282b71a49"
   }
  }
 },
 "nbformat": 4,
 "nbformat_minor": 5
}
