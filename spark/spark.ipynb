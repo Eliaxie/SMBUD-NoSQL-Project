{
 "cells": [
  {
   "attachments": {},
   "cell_type": "markdown",
   "id": "8a425711",
   "metadata": {},
   "source": [
    "# Data import from the dataset"
   ]
  },
  {
   "attachments": {},
   "cell_type": "markdown",
   "id": "fd3325da",
   "metadata": {},
   "source": [
    "In order to import the data, we have created a dataset distributed in different *.csv* files.\n",
    "\n",
    "<ul>\n",
    "<li style=\"font-weight: 300; font-style:italic\">author.csv</li>\n",
    "<li style=\"font-weight: 300; font-style:italic\">publication.csv</li>\n",
    "<li style=\"font-weight: 300; font-style:italic\">reference.csv</li>\n",
    "<li style=\"font-weight: 300; font-style:italic\">venue.csv</li>\n",
    "<li style=\"font-weight: 300; font-style:italic\">writes.csv</li>\n",
    "</ul>\n",
    "\n",
    "Where *reference.csv* contains two columns of *publications_id*, each row represents the references between two publications.\n",
    "\n",
    "Similarly *writes.csv* contains the column of an *author_id* and a *publication_id*, each row represents the publication related to an author.\n",
    "\n",
    "The remaining uncommented *.csv* files are self-explainatory."
   ]
  },
  {
   "cell_type": "code",
   "execution_count": null,
   "id": "2c8babf9",
   "metadata": {},
   "outputs": [],
   "source": [
    "# Import the basic spark library\n",
    "from pyspark.sql import SparkSession\n",
    "from pyspark.sql.types import StructType, StructField, StringType, ArrayType, IntegerType\n",
    "from pyspark.sql.functions import from_json, col, count, when, array_contains, lower\n",
    "\n",
    "# Create an entry point to the PySpark Application\n",
    "spark = SparkSession.builder \\\n",
    "      .master(\"local\") \\\n",
    "      .appName(\"NoSQLProject\") \\\n",
    "      .getOrCreate()\n",
    "# master contains the URL of your remote spark instance bor 'local'"
   ]
  },
  {
   "cell_type": "code",
   "execution_count": null,
   "id": "ef478967",
   "metadata": {},
   "outputs": [],
   "source": [
    "schemapub = StructType([ \\\n",
    "    StructField('id', StringType(), False), \\\n",
    "    StructField('title', StringType(), False), \\\n",
    "    StructField('page_start', IntegerType(), True), \\\n",
    "    StructField('page_end', IntegerType(), True), \\\n",
    "    StructField('year', IntegerType(), True), \\\n",
    "    StructField('citations', IntegerType(), True), \\\n",
    "    StructField('venue', StringType(), True), \\\n",
    "    StructField('keywords', StringType(), True) \\\n",
    "])\n",
    "\n",
    "schemaref = StructType([ \\\n",
    "    StructField('references', StringType(), False), \\\n",
    "    StructField('referenced', StringType(), False) \\\n",
    "])\n",
    "\n",
    "schemavenue = StructType([ \\\n",
    "    StructField('name', StringType(), False), \\\n",
    "    StructField('type', StringType(), True) \\\n",
    "])\n",
    "\n",
    "schemawrites = StructType([ \\\n",
    "    StructField('author', StringType(), False), \\\n",
    "    StructField('publication', StringType(), False) \\\n",
    "])\n",
    "\n",
    "schemaauthor = StructType([ \\\n",
    "    StructField('id', StringType(), False), \\\n",
    "    StructField('name', StringType(), False), \\\n",
    "    StructField('org', StringType(), True) \\\n",
    "])"
   ]
  },
  {
   "cell_type": "code",
   "execution_count": null,
   "id": "4c4a2904",
   "metadata": {},
   "outputs": [],
   "source": [
    "# import data from csv files -> storing it into dataframes with static schemas\n",
    "\n",
    "pub = spark.read.option(\"header\", True).option(\"delimiter\", \";\").schema(schemapub).csv(\"dataset/publication.csv\")\n",
    "pub = pub.withColumn('keywords', from_json('keywords', ArrayType(StringType())))\n",
    "\n",
    "\n",
    "ref = spark.read.option(\"header\", True).option(\"delimiter\", \";\").schema(schemaref).csv(\"dataset/reference.csv\")\n",
    "\n",
    "\n",
    "ven = spark.read.option(\"header\", True).option(\"delimiter\", \";\").schema(schemavenue).csv(\"dataset/venue.csv\")\n",
    "\n",
    "\n",
    "writes = spark.read.option(\"header\", True).option(\"delimiter\", \";\").schema(schemawrites).csv(\"dataset/writes.csv\")\n",
    "\n",
    "\n",
    "author = spark.read.option(\"header\", True).option(\"delimiter\", \";\").schema(schemaauthor).csv(\"dataset/author.csv\")"
   ]
  },
  {
   "attachments": {},
   "cell_type": "markdown",
   "id": "5ab0f79b",
   "metadata": {},
   "source": [
    "#### Publications"
   ]
  },
  {
   "cell_type": "code",
   "execution_count": null,
   "id": "968fdedb",
   "metadata": {},
   "outputs": [],
   "source": [
    "pub.printSchema()\n",
    "pub.show(5)"
   ]
  },
  {
   "attachments": {},
   "cell_type": "markdown",
   "id": "a7a4bc17",
   "metadata": {},
   "source": [
    "#### References\n"
   ]
  },
  {
   "cell_type": "code",
   "execution_count": null,
   "id": "d7d17c66",
   "metadata": {},
   "outputs": [],
   "source": [
    "ref.printSchema()\n",
    "ref.show(5)"
   ]
  },
  {
   "attachments": {},
   "cell_type": "markdown",
   "id": "5341a541",
   "metadata": {},
   "source": [
    "#### Venues"
   ]
  },
  {
   "cell_type": "code",
   "execution_count": null,
   "id": "efc8a20e",
   "metadata": {},
   "outputs": [],
   "source": [
    "ven.printSchema()\n",
    "ven.show(5)"
   ]
  },
  {
   "attachments": {},
   "cell_type": "markdown",
   "id": "e8e641da",
   "metadata": {},
   "source": [
    "#### Authors write a publication"
   ]
  },
  {
   "cell_type": "code",
   "execution_count": null,
   "id": "42cda25c",
   "metadata": {},
   "outputs": [],
   "source": [
    "writes.printSchema()\n",
    "writes.show(5)"
   ]
  },
  {
   "attachments": {},
   "cell_type": "markdown",
   "id": "6d3ed62e",
   "metadata": {},
   "source": [
    "#### Authors"
   ]
  },
  {
   "cell_type": "code",
   "execution_count": null,
   "id": "40f84f89",
   "metadata": {},
   "outputs": [],
   "source": [
    "author.printSchema()\n",
    "author.show(5)"
   ]
  },
  {
   "attachments": {},
   "cell_type": "markdown",
   "id": "17654643",
   "metadata": {},
   "source": [
    "# Read Queries"
   ]
  },
  {
   "attachments": {},
   "cell_type": "markdown",
   "id": "b720b483",
   "metadata": {},
   "source": [
    "Since **pyspark** uses functions \"SQL-equivalent\" we have decided (for most of the queries) to take the SQL query as a reference before the implementation in pyspark."
   ]
  },
  {
   "attachments": {},
   "cell_type": "markdown",
   "id": "e845571e",
   "metadata": {},
   "source": [
    "\n",
    "#### 1. Show the type of publications from 1990 to date. (WHERE and JOIN)"
   ]
  },
  {
   "attachments": {},
   "cell_type": "markdown",
   "id": "ddf084e8",
   "metadata": {},
   "source": [
    "```sql\n",
    "SELECT type  \n",
    "FROM publication JOIN (SELECT * FROM venue)\n",
    "WHERE publication.year > 1990\n",
    "```"
   ]
  },
  {
   "cell_type": "code",
   "execution_count": null,
   "id": "47127532",
   "metadata": {},
   "outputs": [],
   "source": [
    "pub.join(ven, pub.venue == ven.name, 'inner') \\\n",
    "   .filter(pub.year > 1990) \\\n",
    "   .select('year', 'type') \\\n",
    "   .show(truncate = False)"
   ]
  },
  {
   "attachments": {},
   "cell_type": "markdown",
   "id": "a57effb5",
   "metadata": {},
   "source": [
    "#### 2. Find the names of publications published in conferences(WHERE and JOIN again)"
   ]
  },
  {
   "attachments": {},
   "cell_type": "markdown",
   "id": "65df2954",
   "metadata": {},
   "source": [
    "```sql\n",
    "SELECT title, name  \n",
    "FROM publication AS p JOIN venue AS v \n",
    "ON p.venue = v.name WHERE v.type = 'C'"
   ]
  },
  {
   "cell_type": "code",
   "execution_count": null,
   "id": "f1e51543",
   "metadata": {},
   "outputs": [],
   "source": [
    "pub.join(ven, pub.venue == ven.name, 'inner') \\\n",
    "   .select('title', 'name') \\\n",
    "   .filter(col('type') == 'C') \\\n",
    "   .show(truncate = True)"
   ]
  },
  {
   "attachments": {},
   "cell_type": "markdown",
   "id": "f1662cdf",
   "metadata": {},
   "source": [
    "#### 3. List books where their title ends with \"i\" as the penultimate letter (WHERE, LIKE and LIMIT)"
   ]
  },
  {
   "cell_type": "markdown",
   "id": "3aa7c3ab",
   "metadata": {
    "vscode": {
     "languageId": "sql"
    }
   },
   "source": [
    "```sql\n",
    "SELECT p.title\n",
    "FROM publication AS p\n",
    "WHERE title LIKE '%i_'\n",
    "LIMIT 5\n",
    "```"
   ]
  },
  {
   "cell_type": "code",
   "execution_count": null,
   "id": "2aa55506",
   "metadata": {},
   "outputs": [],
   "source": [
    "pub.filter(col('title').like('%i_')) \\\n",
    "   .select(col('title')) \\\n",
    "   .limit(5) \\\n",
    "   .show(truncate = False)"
   ]
  },
  {
   "attachments": {},
   "cell_type": "markdown",
   "id": "c4b5c750",
   "metadata": {},
   "source": [
    "#### 4. Find publications written by authors affiliated with a specific organization (WHERE, IN, Nested Query)"
   ]
  },
  {
   "cell_type": "markdown",
   "id": "944e029b",
   "metadata": {},
   "source": [
    "```sql\n",
    "SELECT p.title AS Title\n",
    "FROM publication AS p\n",
    "WHERE p.id IN ( SELECT p2.id\n",
    "                FROM writes AS w JOIN author AS a ON w.author = a.id\n",
    "                WHERE a.org = 'University of Illinois at Chicago.'\n",
    "              )\n",
    "```              "
   ]
  },
  {
   "cell_type": "code",
   "execution_count": null,
   "id": "f5dc1240",
   "metadata": {},
   "outputs": [],
   "source": [
    "org_pubs = pub.join(writes, writes.publication == pub.id) \\\n",
    "                .join(author, author.id == writes.author) \\\n",
    "                .filter(col('org') == 'University of Illinois at Chicago.') \\\n",
    "                .rdd.map(lambda x: x.publication).collect()\n",
    "\n",
    "pub.filter(col('id').isin(org_pubs)).show(truncate = True)"
   ]
  },
  {
   "attachments": {},
   "cell_type": "markdown",
   "id": "b5e3d6dc",
   "metadata": {},
   "source": [
    "#### 5. Show authors that have written at least 2 publications, sorted by number of publications (GROUP BY, JOIN, AS)"
   ]
  },
  {
   "attachments": {},
   "cell_type": "markdown",
   "id": "0072c0fa",
   "metadata": {},
   "source": [
    "```sql\n",
    "SELECT w.author AS Author, COUNT(*) AS NumberOfPublications\n",
    "FROM writes AS w JOIN author AS a ON w.author = a.id\n",
    "GROUP BY a.id, w.author\n",
    "HAVING COUNT(*) > 1"
   ]
  },
  {
   "cell_type": "code",
   "execution_count": null,
   "id": "a7883765",
   "metadata": {},
   "outputs": [],
   "source": [
    "writes.join(author, writes.author == author.id,'inner') \\\n",
    "      .groupBy('author') \\\n",
    "      .agg(count('publication').alias('number_of_publications')) \\\n",
    "      .filter(col('number_of_publications') > 1) \\\n",
    "      .sort('number_of_publications',ascending=True) \\\n",
    "      .show(truncate = False)"
   ]
  },
  {
   "attachments": {},
   "cell_type": "markdown",
   "id": "c4850cf6",
   "metadata": {},
   "source": [
    "#### 6. Show publications (title and number of citations) whose title contains the word 'methodology' (GROUP BY and WHERE)"
   ]
  },
  {
   "cell_type": "markdown",
   "id": "620ecdba",
   "metadata": {},
   "source": [
    "```sql\n",
    "SELECT p.title, COUNT(*) AS citations\n",
    "FROM publication AS p JOIN ref AS r ON p.id = r.referenced\n",
    "WHERE p.title LIKE '%methodology%'\n",
    "GROUP BY r.referenced, p.title\n",
    "```"
   ]
  },
  {
   "cell_type": "code",
   "execution_count": null,
   "id": "6d4e7d70",
   "metadata": {},
   "outputs": [],
   "source": [
    "pub.join(ref, ref.referenced == pub.id) \\\n",
    "   .filter(lower(col('title')).like('%methodology%')) \\\n",
    "   .groupBy('referenced', 'title') \\\n",
    "   .count() \\\n",
    "   .select(col('title').alias('Title'), col('count').alias('Citations')) \\\n",
    "   .show(truncate = True)"
   ]
  },
  {
   "attachments": {},
   "cell_type": "markdown",
   "id": "bca32c1d",
   "metadata": {},
   "source": [
    "#### 7. Show the IDs of publications that have cited at least 25 other publications (GROUP BY, HAVING and AS)"
   ]
  },
  {
   "cell_type": "markdown",
   "id": "399ae557",
   "metadata": {},
   "source": [
    "```sql\n",
    "SELECT r.references, COUNT(*) AS references\n",
    "FROM ref AS r \n",
    "GROUP BY r.references\n",
    "HAVING COUNT(*) >= 25\n",
    "````\n"
   ]
  },
  {
   "cell_type": "code",
   "execution_count": null,
   "id": "8797ae7b",
   "metadata": {},
   "outputs": [],
   "source": [
    "ref.groupBy('references') \\\n",
    "   .count() \\\n",
    "   .filter(col('count') >= 25) \\\n",
    "   .withColumnRenamed('references', 'PublicationID') \\\n",
    "   .withColumnRenamed('count', 'References') \\\n",
    "   .show()"
   ]
  },
  {
   "attachments": {},
   "cell_type": "markdown",
   "id": "c0267b95",
   "metadata": {},
   "source": [
    "#### 8. Show publications with at least 45 citations that contain the keyword 'Data mining' (GROUP BY, HAVING, WHERE and AS)"
   ]
  },
  {
   "cell_type": "markdown",
   "id": "69306473",
   "metadata": {},
   "source": [
    "```sql\n",
    "SELECT p.title AS Title, p.keywords AS Keywords, COUNT(*) AS citations\n",
    "FROM publication AS p JOIN ref AS r ON p.id = r.referenced\n",
    "WHERE array_contains(p.keywords, 'Data mining')\n",
    "GROUP BY p.title, p.keywords, r.referenced\n",
    "HAVING COUNT(*) >= 45\n",
    "```"
   ]
  },
  {
   "cell_type": "code",
   "execution_count": null,
   "id": "2ec91b91",
   "metadata": {},
   "outputs": [],
   "source": [
    "pub.join(ref, ref.referenced == pub.id) \\\n",
    "   .filter(array_contains(pub.keywords, 'Data mining')) \\\n",
    "   .groupBy('referenced', 'title', 'keywords') \\\n",
    "   .count() \\\n",
    "   .filter(col('count') >= 45) \\\n",
    "   .select(col('title').alias('Title'), col('keywords').alias('Keywords'), col('count').alias('Citations')) \\\n",
    "   .show(truncate = True)"
   ]
  },
  {
   "attachments": {},
   "cell_type": "markdown",
   "id": "a786ec3b",
   "metadata": {},
   "source": [
    "#### 9. Find publications that are referenced more than the average that contain the keywords 'Data Mining' and 'Computer Science', ordered by the number of publications in ascending order. (WHERE, Nested query, GROUP BY)"
   ]
  },
  {
   "attachments": {},
   "cell_type": "markdown",
   "id": "0fb6d816",
   "metadata": {},
   "source": [
    "```sql\n",
    "SELECT p.title, COUNT(*) AS citations\n",
    "FROM publication AS p JOIN ref AS r ON p.id = r.referenced\n",
    "WHERE array_contains(p.keywords, ['Data mining', 'Computer science'])\n",
    "GROUP BY p.title, r.referenced\n",
    "HAVING COUNT(*) > ( SELECT AVG(counter)\n",
    "                    FROM (SELECT COUNT(*) AS counter\n",
    "                          FROM ref AS r2\n",
    "                          GROUP BY r2.referenced\n",
    "                         )\n",
    "                  )\n",
    "\n",
    "```"
   ]
  },
  {
   "cell_type": "code",
   "execution_count": null,
   "id": "354bdcec",
   "metadata": {},
   "outputs": [],
   "source": [
    "average = ref.groupBy('referenced').count() \\\n",
    "             .sort('count',ascending=False) \\\n",
    "             .groupBy() \\\n",
    "             .avg('count') \\\n",
    "             .collect()[0][0]\n",
    "\n",
    "pub.join(ref,ref.referenced == pub.id, 'left') \\\n",
    "   .select('title', 'id', 'referenced', 'references', 'keywords') \\\n",
    "   .groupBy('title', 'keywords') \\\n",
    "   .agg(count('references').alias('number_of_references')) \\\n",
    "   .filter((col('number_of_references') > average) & \\\n",
    "            array_contains(pub.keywords, 'Computer science') & \\\n",
    "            array_contains(pub.keywords, 'Data mining')) \\\n",
    "   .sort('number_of_references',ascending = True) \\\n",
    "   .show()"
   ]
  },
  {
   "attachments": {},
   "cell_type": "markdown",
   "id": "500b7309",
   "metadata": {},
   "source": [
    "#### 10. Find the publications with the average number of citations and the types of conferences they are in (WHERE, GROUP BY, HAVING, 1 JOINs)"
   ]
  },
  {
   "cell_type": "markdown",
   "id": "2718ba67",
   "metadata": {},
   "source": [
    "```sql\n",
    "SELECT p.title AS Title, p.id AS ID, p.venue AS Venue, v.type AS Type\n",
    "FROM publication AS p JOIN venue AS v ON p.venue = v.name\n",
    "WHERE p.id IN ( SELECT p2.id \n",
    "                FROM publication AS p2 JOIN ref AS r ON p2.id = r.referenced\n",
    "                GROUP BY p2.id\n",
    "                HAVING COUNT(*) = ( SELECT AVG(citations)\n",
    "                                    FROM ( SELECT COUNT(*) AS citations\n",
    "                                           FROM ref AS r \n",
    "                                           GROUP BY r.referenced\n",
    "                                         )\n",
    "                                   )\n",
    "              )\n",
    "````\n"
   ]
  },
  {
   "cell_type": "code",
   "execution_count": null,
   "id": "9d69b31f",
   "metadata": {},
   "outputs": [],
   "source": [
    "avg = pub.join(ref, ref.referenced == pub.id) \\\n",
    "         .groupBy('id') \\\n",
    "         .count() \\\n",
    "         .groupBy() \\\n",
    "         .avg('count') \\\n",
    "         .collect()[0][0]\n",
    "\n",
    "avg = int(avg)\n",
    "\n",
    "avg_pubs = pub.join(ref, ref.referenced == pub.id) \\\n",
    "              .groupBy('id') \\\n",
    "              .count() \\\n",
    "              .filter(col('count') == avg) \\\n",
    "              .rdd.map(lambda x: x.id).collect()\n",
    "\n",
    "pub.join(ven, ven.name == pub.venue) \\\n",
    "   .filter(col('id').isin(avg_pubs)) \\\n",
    "   .select(col('id'), col('title'), col('venue'), col('type')) \\\n",
    "   .withColumnRenamed('id', 'ID') \\\n",
    "   .withColumnRenamed('title', 'Title') \\\n",
    "   .withColumnRenamed('venue', 'Venue') \\\n",
    "   .withColumnRenamed('type', 'VType') \\\n",
    "   .show(truncate = True)"
   ]
  },
  {
   "attachments": {},
   "cell_type": "markdown",
   "id": "ef0f27b4",
   "metadata": {},
   "source": [
    "#### 11. Find the most cited publication(s) in the publications table, list its (their) name(s), ID(s), venue(s) with type and authors (one row per author and publication). (WHERE, GROUP BY, HAVING, 2 JOINs)"
   ]
  },
  {
   "cell_type": "markdown",
   "id": "7f28876a",
   "metadata": {
    "vscode": {
     "languageId": "sql"
    }
   },
   "source": [
    "```sql\n",
    "SELECT p.title AS Title, p.id AS ID, p.venue AS Venue, v.type AS Type, author.name AS author\n",
    "FROM publication AS p JOIN venue AS v ON p.venue = v.name\n",
    "        JOIN writes AS w ON w.publication = p.id\n",
    "        JOIN author AS a ON a.id = w.author\n",
    "WHERE p.id IN ( SELECT p2.id \n",
    "                FROM publication AS p2 JOIN ref AS r ON p2.id = r.referenced\n",
    "                GROUP BY p2.id\n",
    "                HAVING COUNT(*) = ( SELECT MAX(citations)\n",
    "                                    FROM ( SELECT COUNT(*)\n",
    "                                           FROM ref AS r\n",
    "                                           GROUP BY r.referenced\n",
    "                                        )\n",
    "                                   \n",
    "                                   )\n",
    "               )\n",
    "```"
   ]
  },
  {
   "cell_type": "code",
   "execution_count": null,
   "id": "1e371690",
   "metadata": {},
   "outputs": [],
   "source": [
    "max = pub.join(ref, ref.referenced == pub.id) \\\n",
    "         .groupBy('id') \\\n",
    "         .count() \\\n",
    "         .groupBy() \\\n",
    "         .max('count') \\\n",
    "         .collect()[0][0]\n",
    "\n",
    "max_pubs = pub.join(ref, ref.referenced == pub.id) \\\n",
    "              .groupBy('id') \\\n",
    "              .count() \\\n",
    "              .filter(col('count') == max) \\\n",
    "              .rdd.map(lambda x: x.id).collect()\n",
    "\n",
    "pub.join(ven, ven.name == pub.venue) \\\n",
    "   .filter(col('id').isin(max_pubs)) \\\n",
    "   .join(writes, writes.publication == pub.id) \\\n",
    "   .join(author, writes.author == author.id) \\\n",
    "   .drop(author.id) \\\n",
    "   .drop(ven.name) \\\n",
    "   .select(col('id'), col('title'), col('venue'), col('type'), col('name')) \\\n",
    "   .withColumnRenamed('id', 'ID') \\\n",
    "   .withColumnRenamed('title', 'Title') \\\n",
    "   .withColumnRenamed('venue', 'Venue') \\\n",
    "   .withColumnRenamed('type', 'VType') \\\n",
    "   .withColumnRenamed('name', 'Author') \\\n",
    "   .show(truncate = True)"
   ]
  },
  {
   "attachments": {},
   "cell_type": "markdown",
   "id": "7254bb28",
   "metadata": {},
   "source": [
    "# Creation/Update/Deletion Queries"
   ]
  },
  {
   "attachments": {},
   "cell_type": "markdown",
   "id": "b6844a4a",
   "metadata": {},
   "source": [
    "#### 1. Update the publication attribute with the number of pages column for each article."
   ]
  },
  {
   "cell_type": "code",
   "execution_count": null,
   "id": "2cc10a40",
   "metadata": {},
   "outputs": [],
   "source": [
    "pub = pub.withColumn(\"pages\"\n",
    "                     , when(col(\"page_start\") \\\n",
    "                            .isNotNull() \\\n",
    "                            , pub['page_end'] - pub['page_start']) \\\n",
    "                     .otherwise(None) \\\n",
    "                     .alias(\"pages\")) \\\n",
    "\n",
    "pub.select('title','page_start','page_end','pages').show()"
   ]
  },
  {
   "attachments": {},
   "cell_type": "markdown",
   "id": "19196ad8",
   "metadata": {},
   "source": [
    "#### 2. Delete every publication that has 'keywords' = <i>null</i> or has got no citation."
   ]
  },
  {
   "cell_type": "code",
   "execution_count": null,
   "id": "f06f5d4c",
   "metadata": {},
   "outputs": [],
   "source": [
    "pub = pub.filter(col('keywords').isNotNull()) \\\n",
    "         .filter(col('citations') > 0)"
   ]
  },
  {
   "attachments": {},
   "cell_type": "markdown",
   "id": "67c67cce",
   "metadata": {},
   "source": [
    "#### 3. Add the total of the citations for each author in \"<i>author</i>\" table."
   ]
  },
  {
   "cell_type": "code",
   "execution_count": null,
   "id": "438c884e",
   "metadata": {},
   "outputs": [],
   "source": [
    "author = pub.join(writes, writes.publication == pub.id) \\\n",
    "            .join(author, writes.author == author.id) \\\n",
    "            .drop(pub.id) \\\n",
    "            .select(col('id'),col('citations')) \\\n",
    "            .groupBy('id') \\\n",
    "            .sum('citations') \\\n",
    "            .withColumnRenamed('sum(citations)','total_citations') \\\n",
    "            .join(author,author.id == author.id) \\\n",
    "            .drop(author.id) \\\n",
    "            .select('id','name','org','total_citations') \\\n",
    "# writes.withColumn()\n",
    "author.show()\n",
    "\n"
   ]
  },
  {
   "attachments": {},
   "cell_type": "markdown",
   "id": "094118fe",
   "metadata": {},
   "source": [
    "#### 4. Change every instance of <i>Ecole Polytecnique</i> in <i>Ecole Polytecnique Federale de Lausanne.</i>"
   ]
  },
  {
   "cell_type": "code",
   "execution_count": null,
   "id": "91a5b166",
   "metadata": {},
   "outputs": [],
   "source": [
    "author.filter(col('org') == 'Ecole Polytechnique').show(truncate=False)\n",
    "author = author.withColumn('org' \\\n",
    "                           , when(col('org') == 'Ecole Polytechnique' \\\n",
    "                                  , 'Ecole Polytecnique Federale de Lausanne') \\\n",
    "                           .otherwise(col('org'))) \n",
    "author.filter(col('org') == 'Ecole Polytecnique Federale de Lausanne').show(truncate=False)"
   ]
  },
  {
   "attachments": {},
   "cell_type": "markdown",
   "id": "0bafa8f3",
   "metadata": {},
   "source": [
    "#### 5. Create a table with only the main keyword for each publication (considering the first keyword the main one)."
   ]
  },
  {
   "cell_type": "code",
   "execution_count": null,
   "id": "7976b49d",
   "metadata": {},
   "outputs": [],
   "source": [
    "from pyspark.sql.functions import explode,first\n",
    "\n",
    "p_exp = pub.select('id','title','page_start' \\\n",
    "                          ,'page_end','pages','year' \\\n",
    "                          ,'citations','venue' \\\n",
    "                          , explode(pub.keywords).alias('keyword'))\n",
    "\n",
    "\n",
    "p_main_k = p_exp.groupBy('id','title','page_start' \\\n",
    "                         ,'page_end', 'pages' \\\n",
    "                         ,'year','citations','venue') \\\n",
    "                .agg(first('id').alias('_i') \\\n",
    "                     , first('title').alias('_t') \\\n",
    "                     , first('page_start').alias('_ps') \\\n",
    "                     , first('page_end').alias('_pe') \\\n",
    "                     , first('pages').alias('_p') \\\n",
    "                     , first('year').alias('_y') \\\n",
    "                     , first('citations').alias('_c') \\\n",
    "                     , first('venue').alias('_v') \\\n",
    "                     , first('keyword').alias('keyword')) \\\n",
    "                .drop('id','title','page_start','page_end' \\\n",
    "                      , 'pages','year','citations','venue') \\\n",
    "                .withColumnRenamed('_i','id') \\\n",
    "                .withColumnRenamed('_t','title') \\\n",
    "                .withColumnRenamed('_ps','page_start') \\\n",
    "                .withColumnRenamed('_pe','page_end') \\\n",
    "                .withColumnRenamed('_p','pages') \\\n",
    "                .withColumnRenamed('_y','year') \\\n",
    "                .withColumnRenamed('_c','citations') \\\n",
    "                .withColumnRenamed('_v','venue') \\\n",
    "                .sort(col('keyword').asc())\n",
    "\n",
    "        \n",
    "p_main_k.select('title','keyword').show(1,truncate=False)"
   ]
  }
 ],
 "metadata": {
  "kernelspec": {
   "display_name": "Python 3 (ipykernel)",
   "language": "python",
   "name": "python3"
  },
  "language_info": {
   "codemirror_mode": {
    "name": "ipython",
    "version": 3
   },
   "file_extension": ".py",
   "mimetype": "text/x-python",
   "name": "python",
   "nbconvert_exporter": "python",
   "pygments_lexer": "ipython3",
   "version": "3.9.10"
  },
  "vscode": {
   "interpreter": {
    "hash": "aee8b7b246df8f9039afb4144a1f6fd8d2ca17a180786b69acc140d282b71a49"
   }
  }
 },
 "nbformat": 4,
 "nbformat_minor": 5
}
