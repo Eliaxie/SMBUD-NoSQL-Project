{
 "cells": [
  {
   "cell_type": "code",
   "execution_count": null,
   "id": "2c8babf9",
   "metadata": {},
   "outputs": [],
   "source": [
    "# Import the basic spark library\n",
    "from pyspark.sql import SparkSession\n",
    "from pyspark.sql.types import StructType, StructField, StringType, ArrayType, IntegerType\n",
    "from pyspark.sql.functions import from_json,col,count,when\n",
    "\n",
    "# Create an entry point to the PySpark Application\n",
    "spark = SparkSession.builder \\\n",
    "      .master(\"local\") \\\n",
    "      .appName(\"NoSQLProject\") \\\n",
    "      .getOrCreate()\n",
    "# master contains the URL of your remote spark instance bor 'local'"
   ]
  },
  {
   "cell_type": "code",
   "execution_count": null,
   "id": "ef478967",
   "metadata": {},
   "outputs": [],
   "source": [
    "schemapub = StructType([ \\\n",
    "    StructField('id', StringType(), False), \\\n",
    "    StructField('title', StringType(), False), \\\n",
    "    StructField('page_start', IntegerType(), True), \\\n",
    "    StructField('page_end', IntegerType(), True), \\\n",
    "    StructField('year', IntegerType(), True), \\\n",
    "    StructField('citations', IntegerType(), True), \\\n",
    "    StructField('venue', StringType(), True), \\\n",
    "    StructField('keywords', StringType(), True) \\\n",
    "])\n",
    "\n",
    "schemaref = StructType([ \\\n",
    "    StructField('references', StringType(), False), \\\n",
    "    StructField('referenced', StringType(), False) \\\n",
    "])\n",
    "\n",
    "schemavenue = StructType([ \\\n",
    "    StructField('name', StringType(), False), \\\n",
    "    StructField('type', StringType(), True) \\\n",
    "])\n",
    "\n",
    "schemawrites = StructType([ \\\n",
    "    StructField('author', StringType(), False), \\\n",
    "    StructField('publication', StringType(), False) \\\n",
    "])\n",
    "\n",
    "schemaauthor = StructType([ \\\n",
    "    StructField('id', StringType(), False), \\\n",
    "    StructField('name', StringType(), False), \\\n",
    "    StructField('org', StringType(), True) \\\n",
    "])"
   ]
  },
  {
   "cell_type": "code",
   "execution_count": null,
   "id": "4c4a2904",
   "metadata": {},
   "outputs": [],
   "source": [
    "pub = spark.read.option(\"header\", True).option(\"delimiter\", \";\").schema(schemapub).csv(\"dataset/publication.csv\")\n",
    "pub = pub.withColumn('keywords', from_json('keywords', ArrayType(StringType())))\n",
    "\n",
    "\n",
    "ref = spark.read.option(\"header\", True).option(\"delimiter\", \";\").schema(schemaref).csv(\"dataset/reference.csv\")\n",
    "\n",
    "\n",
    "ven = spark.read.option(\"header\", True).option(\"delimiter\", \";\").schema(schemavenue).csv(\"dataset/venue.csv\")\n",
    "\n",
    "\n",
    "writes = spark.read.option(\"header\", True).option(\"delimiter\", \";\").schema(schemawrites).csv(\"dataset/writes.csv\")\n",
    "\n",
    "\n",
    "author = spark.read.option(\"header\", True).option(\"delimiter\", \";\").schema(schemaauthor).csv(\"dataset/author.csv\")"
   ]
  },
  {
   "cell_type": "markdown",
   "id": "5ab0f79b",
   "metadata": {},
   "source": [
    "Publications"
   ]
  },
  {
   "cell_type": "code",
   "execution_count": null,
   "id": "968fdedb",
   "metadata": {},
   "outputs": [],
   "source": [
    "pub.printSchema()\n",
    "pub.show()"
   ]
  },
  {
   "cell_type": "markdown",
   "id": "a7a4bc17",
   "metadata": {},
   "source": [
    "References\n"
   ]
  },
  {
   "cell_type": "code",
   "execution_count": null,
   "id": "d7d17c66",
   "metadata": {},
   "outputs": [],
   "source": [
    "ref.printSchema()\n",
    "ref.show()"
   ]
  },
  {
   "cell_type": "markdown",
   "id": "5341a541",
   "metadata": {},
   "source": [
    "Venues"
   ]
  },
  {
   "cell_type": "code",
   "execution_count": null,
   "id": "efc8a20e",
   "metadata": {},
   "outputs": [],
   "source": [
    "ven.printSchema()\n",
    "ven.show()\n"
   ]
  },
  {
   "cell_type": "markdown",
   "id": "e8e641da",
   "metadata": {},
   "source": [
    "Authors write a publication"
   ]
  },
  {
   "cell_type": "code",
   "execution_count": null,
   "id": "42cda25c",
   "metadata": {},
   "outputs": [],
   "source": [
    "writes.printSchema()\n",
    "writes.show()"
   ]
  },
  {
   "cell_type": "markdown",
   "id": "6d3ed62e",
   "metadata": {},
   "source": [
    "Authors"
   ]
  },
  {
   "cell_type": "code",
   "execution_count": null,
   "id": "40f84f89",
   "metadata": {},
   "outputs": [],
   "source": [
    "author.printSchema()\n",
    "author.show()"
   ]
  },
  {
   "cell_type": "markdown",
   "id": "17654643",
   "metadata": {},
   "source": [
    "**<h3>Queries</h3>**"
   ]
  },
  {
   "cell_type": "markdown",
   "id": "dd4ec1d5",
   "metadata": {},
   "source": [
    "Show the type of publications from 1990 to date."
   ]
  },
  {
   "cell_type": "markdown",
   "id": "8178beaa",
   "metadata": {},
   "source": [
    "```sql\n",
    "select type  \n",
    "from publication join (select * from venue )\n",
    "where publication.year > 1990\n"
   ]
  },
  {
   "cell_type": "code",
   "execution_count": null,
   "id": "12d29993",
   "metadata": {},
   "outputs": [],
   "source": [
    "pub.join(ven).filter(pub.year > 1990).select('year','type').show(truncate=False)"
   ]
  },
  {
   "cell_type": "markdown",
   "id": "a57effb5",
   "metadata": {},
   "source": [
    "Find name of publications related to the venues written for."
   ]
  },
  {
   "cell_type": "code",
   "execution_count": null,
   "id": "f1e51543",
   "metadata": {},
   "outputs": [],
   "source": [
    "pub.join(ven, pub.venue == ven.name, 'inner') \\\n",
    "            .select('title', 'name') \\\n",
    "            .filter(col('type') == 'C') \\\n",
    "            .show()"
   ]
  },
  {
   "cell_type": "markdown",
   "id": "f1662cdf",
   "metadata": {},
   "source": [
    "List books where their title ends with \"i\" as penultimum letter"
   ]
  },
  {
   "cell_type": "markdown",
   "id": "3aa7c3ab",
   "metadata": {
    "vscode": {
     "languageId": "sql"
    }
   },
   "source": [
    "```sql\n",
    "select P.title\n",
    "from Publication as P \n",
    "where title like '%i_'"
   ]
  },
  {
   "cell_type": "code",
   "execution_count": null,
   "id": "2aa55506",
   "metadata": {},
   "outputs": [],
   "source": [
    "pub.filter(col('title').like('%i_')).select(col('title')).show(truncate=False)"
   ]
  },
  {
   "cell_type": "markdown",
   "id": "ef0f27b4",
   "metadata": {},
   "source": [
    "Identify the most common book in the publications table. \\\n",
    "Then list all the attributes and number of venues it is in."
   ]
  },
  {
   "cell_type": "markdown",
   "id": "7f28876a",
   "metadata": {
    "vscode": {
     "languageId": "sql"
    }
   },
   "source": [
    "```sql\n",
    "select publication.*, cnt\n",
    "from publication natural join (\n",
    "select IDP as id,count(*) as cnt\n",
    "from venue\n",
    "group by IDP\n",
    "having count(*) = (select max(A.cnt)\n",
    "from (select IDP,count(*) as cnt\n",
    "from venue\n",
    "group by IDP) A)) B\n",
    "```"
   ]
  },
  {
   "cell_type": "code",
   "execution_count": null,
   "id": "1e371690",
   "metadata": {},
   "outputs": [],
   "source": []
  },
  {
   "cell_type": "markdown",
   "id": "bd8e9d3a",
   "metadata": {},
   "source": [
    "Show authors with at least two publications, ordered by number of publications. \\\n",
    "(GROUP BY, 1 JOIN, AS)"
   ]
  },
  {
   "cell_type": "code",
   "execution_count": null,
   "id": "a0efb953",
   "metadata": {},
   "outputs": [],
   "source": [
    "writes.join(author,writes.author == author.id,'inner') \\\n",
    "    .groupBy('author') \\\n",
    "    .agg(count('publication').alias('number_of_publications')) \\\n",
    "    .filter(col('number_of_publications') > 1) \\\n",
    "    .sort('number_of_publications',ascending=True) \\\n",
    "    .show()"
   ]
  },
  {
   "cell_type": "markdown",
   "id": "a786ec3b",
   "metadata": {},
   "source": [
    "\n",
    "Find publications that are referenced more than the average, ordered by the number of publications in ascending order. \\\n",
    "(NESTED QUERY)\n"
   ]
  },
  {
   "cell_type": "code",
   "execution_count": null,
   "id": "354bdcec",
   "metadata": {},
   "outputs": [],
   "source": [
    "average = ref.groupBy('referenced').count() \\\n",
    "        .sort('count',ascending=False) \\\n",
    "        .groupBy() \\\n",
    "        .avg('count') \\\n",
    "        .collect()[0][0]\n",
    "\n",
    "pub.join(ref,ref.referenced == pub.id,'left') \\\n",
    "    .select('title','id','referenced','references') \\\n",
    "    .groupBy('title') \\\n",
    "    .agg(count('references').alias('number_of_references')) \\\n",
    "    .filter(col('number_of_references') > average) \\\n",
    "    .sort('number_of_references',ascending=True) \\\n",
    "    .show()"
   ]
  },
  {
   "cell_type": "markdown",
   "id": "f13c7661",
   "metadata": {},
   "source": []
  },
  {
   "cell_type": "markdown",
   "id": "b6844a4a",
   "metadata": {},
   "source": [
    "Update the publication dataframe with the number of pages column for each article."
   ]
  },
  {
   "cell_type": "code",
   "execution_count": null,
   "id": "2cc10a40",
   "metadata": {},
   "outputs": [],
   "source": [
    "pub = pub.withColumn(\"pages\",when( col(\"page_start\").isNotNull(), pub['page_end']-pub['page_start']).otherwise( None ).alias(\"pages\")) \\\n",
    "\n",
    "pub.select('title','page_start','page_end','pages').show()"
   ]
  }
 ],
 "metadata": {
  "kernelspec": {
   "display_name": "Python 3.9.10 64-bit",
   "language": "python",
   "name": "python3"
  },
  "language_info": {
   "codemirror_mode": {
    "name": "ipython",
    "version": 3
   },
   "file_extension": ".py",
   "mimetype": "text/x-python",
   "name": "python",
   "nbconvert_exporter": "python",
   "pygments_lexer": "ipython3",
   "version": "3.9.10"
  },
  "vscode": {
   "interpreter": {
    "hash": "aee8b7b246df8f9039afb4144a1f6fd8d2ca17a180786b69acc140d282b71a49"
   }
  }
 },
 "nbformat": 4,
 "nbformat_minor": 5
}
